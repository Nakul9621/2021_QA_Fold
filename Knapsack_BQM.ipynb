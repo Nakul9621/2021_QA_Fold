{
 "cells": [
  {
   "cell_type": "markdown",
   "metadata": {},
   "source": [
    "**The codes below implements the standard Knapsack problem using the BQM model. The codes are copied from the Dwave tutorial.**"
   ]
  },
  {
   "cell_type": "code",
   "execution_count": 2,
   "metadata": {
    "collapsed": true
   },
   "outputs": [],
   "source": [
    "import pandas as pd\n",
    "import sys\n",
    "from dwave.system import LeapHybridSampler\n",
    "from math import log2, floor\n",
    "import dimod\n",
    "import os\n",
    "\n",
    "# From Andrew Lucas, NP-hard combinatorial problems as Ising spin glasses\n",
    "# Workshop on Classical and Quantum Optimization; ETH Zuerich - August 20, 2014\n",
    "# based on Lucas, Frontiers in Physics _2, 5 (2014)"
   ]
  },
  {
   "cell_type": "code",
   "execution_count": 3,
   "metadata": {
    "collapsed": true
   },
   "outputs": [],
   "source": [
    "def build_knapsack_bqm(costs, weights, weight_capacity):\n",
    "    \"\"\"Construct BQM for the knapsack problem\n",
    "    Args:\n",
    "        costs (array-like):\n",
    "            Array of costs associated with the items\n",
    "        weights (array-like):\n",
    "            Array of weights associated with the items\n",
    "        weight_capacity (int):\n",
    "            Maximum allowable weight\n",
    "    Returns:\n",
    "        Binary quadratic model instance\n",
    "    \"\"\"\n",
    "\n",
    "    # Initialize BQM - use large-capacity BQM so that the problem can be\n",
    "    # scaled by the user.\n",
    "    bqm = dimod.AdjVectorBQM(dimod.Vartype.BINARY)\n",
    "\n",
    "    # Lagrangian multiplier\n",
    "    # First guess as suggested in Lucas's paper\n",
    "    lagrange = max(costs)\n",
    "\n",
    "    # Number of objects\n",
    "    x_size = len(costs)\n",
    "\n",
    "    # Lucas's algorithm introduces additional slack variables to\n",
    "    # handle the inequality. M+1 binary slack variables are needed to\n",
    "    # represent the sum using a set of powers of 2.\n",
    "    M = floor(log2(weight_capacity))\n",
    "    num_slack_variables = M + 1\n",
    "\n",
    "    # Slack variable list for Lucas's algorithm. The last variable has\n",
    "    # a special value because it terminates the sequence.\n",
    "    y = [2**n for n in range(M)]\n",
    "    \n",
    "    y.append(weight_capacity + 1 - 2**M)\n",
    "\n",
    "    # Hamiltonian xi-xi terms\n",
    "    for k in range(x_size):\n",
    "        bqm.set_linear('x' + str(k), lagrange * (weights[k]**2) - costs[k])\n",
    "\n",
    "    # Hamiltonian xi-xj terms\n",
    "    for i in range(x_size):\n",
    "        for j in range(i + 1, x_size):\n",
    "            key = ('x' + str(i), 'x' + str(j))\n",
    "            bqm.quadratic[key] = 2 * lagrange * weights[i] * weights[j]\n",
    "\n",
    "    # Hamiltonian y-y terms\n",
    "    for k in range(num_slack_variables):\n",
    "        bqm.set_linear('y' + str(k), lagrange * (y[k]**2))\n",
    "\n",
    "    # Hamiltonian yi-yj terms\n",
    "    for i in range(num_slack_variables):\n",
    "        for j in range(i + 1, num_slack_variables):\n",
    "            key = ('y' + str(i), 'y' + str(j))\n",
    "            bqm.quadratic[key] = 2 * lagrange * y[i] * y[j]\n",
    "\n",
    "    # Hamiltonian x-y terms\n",
    "    for i in range(x_size):\n",
    "        for j in range(num_slack_variables):\n",
    "            key = ('x' + str(i), 'y' + str(j))\n",
    "            bqm.quadratic[key] = -2 * lagrange * weights[i] * y[j]\n",
    "\n",
    "    return bqm\n",
    "\n",
    "def solve_knapsack(costs, weights, weight_capacity, sampler=None):\n",
    "    \"\"\"Construct BQM and solve the knapsack problem\n",
    "    Args:\n",
    "        costs (array-like):\n",
    "            Array of costs associated with the items\n",
    "        weights (array-like):\n",
    "            Array of weights associated with the items\n",
    "        weight_capacity (int):\n",
    "            Maximum allowable weight\n",
    "        sampler (BQM sampler instance or None):\n",
    "            A BQM sampler instance or None, in which case\n",
    "            LeapHybridSampler is used by default\n",
    "    Returns:\n",
    "        Tuple:\n",
    "            List of indices of selected items\n",
    "            Solution energy\n",
    "    \"\"\"\n",
    "    bqm = build_knapsack_bqm(costs, weights, weight_capacity)\n",
    "\n",
    "\n",
    "    if sampler is None:\n",
    "        sampler = LeapHybridSampler()\n",
    "\n",
    "    sampleset = sampler.sample(bqm, label='Example - Knapsack')\n",
    "    sample = sampleset.first.sample\n",
    "    energy = sampleset.first.energy\n",
    "\n",
    "    # Build solution from returned binary variables:\n",
    "    selected_item_indices = []\n",
    "    for varname, value in sample.items():\n",
    "        # For each \"x\" variable, check whether its value is set, which\n",
    "        # indicates that the corresponding item is included in the\n",
    "        # knapsack\n",
    "        if value and varname.startswith('x'):\n",
    "            # The index into the weight array is retrieved from the\n",
    "            # variable name\n",
    "            selected_item_indices.append(int(varname[1:]))\n",
    "\n",
    "    return sorted(selected_item_indices), energy\n"
   ]
  },
  {
   "cell_type": "code",
   "execution_count": 3,
   "metadata": {
    "collapsed": false
   },
   "outputs": [
    {
     "data": {
      "text/html": [
       "<div>\n",
       "<style scoped>\n",
       "    .dataframe tbody tr th:only-of-type {\n",
       "        vertical-align: middle;\n",
       "    }\n",
       "\n",
       "    .dataframe tbody tr th {\n",
       "        vertical-align: top;\n",
       "    }\n",
       "\n",
       "    .dataframe thead th {\n",
       "        text-align: right;\n",
       "    }\n",
       "</style>\n",
       "<table border=\"1\" class=\"dataframe\">\n",
       "  <thead>\n",
       "    <tr style=\"text-align: right;\">\n",
       "      <th></th>\n",
       "      <th>cost</th>\n",
       "      <th>weight</th>\n",
       "    </tr>\n",
       "  </thead>\n",
       "  <tbody>\n",
       "    <tr>\n",
       "      <th>0</th>\n",
       "      <td>77</td>\n",
       "      <td>95</td>\n",
       "    </tr>\n",
       "    <tr>\n",
       "      <th>1</th>\n",
       "      <td>44</td>\n",
       "      <td>70</td>\n",
       "    </tr>\n",
       "    <tr>\n",
       "      <th>2</th>\n",
       "      <td>15</td>\n",
       "      <td>85</td>\n",
       "    </tr>\n",
       "    <tr>\n",
       "      <th>3</th>\n",
       "      <td>67</td>\n",
       "      <td>31</td>\n",
       "    </tr>\n",
       "    <tr>\n",
       "      <th>4</th>\n",
       "      <td>75</td>\n",
       "      <td>100</td>\n",
       "    </tr>\n",
       "  </tbody>\n",
       "</table>\n",
       "</div>"
      ],
      "text/plain": [
       "   cost  weight\n",
       "0    77      95\n",
       "1    44      70\n",
       "2    15      85\n",
       "3    67      31\n",
       "4    75     100"
      ]
     },
     "execution_count": 3,
     "metadata": {},
     "output_type": "execute_result"
    }
   ],
   "source": [
    "data_file_name = os.path.join(os.getcwd(),'data/large.csv')\n",
    "weight_capacity = 70\n",
    "\n",
    "# parse input data\n",
    "df = pd.read_csv(data_file_name, names=['cost', 'weight'])\n",
    "df.head()"
   ]
  },
  {
   "cell_type": "code",
   "execution_count": 4,
   "metadata": {
    "collapsed": false
   },
   "outputs": [
    {
     "name": "stdout",
     "output_type": "stream",
     "text": [
      "Found solution at energy -516.0\n",
      "Selected item numbers (0-indexed): [5, 6, 9, 12, 54, 55, 62]\n",
      "Selected item weights: [1, 7, 11, 4, 19, 14, 10], total = 66\n",
      "Selected item costs: [91, 2, 68, 84, 96, 83, 92], total = 516\n"
     ]
    }
   ],
   "source": [
    "selected_item_indices, energy = solve_knapsack(df['cost'], df['weight'], weight_capacity)\n",
    "selected_weights = list(df.loc[selected_item_indices,'weight'])\n",
    "selected_costs = list(df.loc[selected_item_indices,'cost'])\n",
    "\n",
    "print(\"Found solution at energy {}\".format(energy))\n",
    "print(\"Selected item numbers (0-indexed):\", selected_item_indices)\n",
    "print(\"Selected item weights: {}, total = {}\".format(selected_weights, sum(selected_weights)))\n",
    "print(\"Selected item costs: {}, total = {}\".format(selected_costs, sum(selected_costs)))"
   ]
  },
  {
   "cell_type": "markdown",
   "metadata": {},
   "source": [
    "**The results below can be compared with gate-based model in solving the Knapsack problem.**"
   ]
  },
  {
   "cell_type": "code",
   "execution_count": 9,
   "metadata": {
    "collapsed": false
   },
   "outputs": [],
   "source": [
    "# Inputs\n",
    "import numpy as np\n",
    "\n",
    "vals = np.array([1, 2, 3]) # Cost/Value of each item\n",
    "weights = np.array([2, 4, 5]) # Weight of each item\n",
    "max_weight = 8 # Maximum weight allowed\n",
    "\n",
    "selected_item_indices, energy = solve_knapsack(vals, weights, max_weight)\n",
    "selected_weights = weights[np.array(selected_item_indices)]\n",
    "selected_costs = vals[np.array(selected_item_indices)]\n"
   ]
  },
  {
   "cell_type": "code",
   "execution_count": 10,
   "metadata": {
    "collapsed": false
   },
   "outputs": [
    {
     "name": "stdout",
     "output_type": "stream",
     "text": [
      "Found solution at energy -4.0\n",
      "Selected item numbers: [0, 2]\n",
      "Selected item weights: [2 5], total = 7\n",
      "Selected item costs: [1 3], total = 4\n"
     ]
    }
   ],
   "source": [
    "print(\"Found solution at energy {}\".format(energy))\n",
    "print(\"Selected item numbers:\", selected_item_indices)\n",
    "print(\"Selected item weights: {}, total = {}\".format(selected_weights, sum(selected_weights)))\n",
    "print(\"Selected item costs: {}, total = {}\".format(selected_costs, sum(selected_costs)))"
   ]
  }
 ],
 "metadata": {
  "kernelspec": {
   "display_name": "Python [conda env:iQuHACK]",
   "language": "python",
   "name": "conda-env-iQuHACK-py"
  },
  "language_info": {
   "codemirror_mode": {
    "name": "ipython",
    "version": 3
   },
   "file_extension": ".py",
   "mimetype": "text/x-python",
   "name": "python",
   "nbconvert_exporter": "python",
   "pygments_lexer": "ipython3",
   "version": "3.7.9"
  }
 },
 "nbformat": 4,
 "nbformat_minor": 2
}
