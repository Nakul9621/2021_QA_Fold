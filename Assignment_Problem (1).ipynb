{
 "cells": [
  {
   "cell_type": "code",
   "execution_count": 420,
   "metadata": {},
   "outputs": [],
   "source": [
    "from dwave.system import LeapHybridSampler\n",
    "sampler=LeapHybridSampler(token='DEV-3fc4e66bf879e3fb40a1d09e8be0a7654e806d3c')\n",
    "from scipy.optimize import linear_sum_assignment\n",
    "from dwave.system import LeapHybridDQMSampler\n",
    "import dimod\n",
    "import numpy as np"
   ]
  },
  {
   "cell_type": "markdown",
   "metadata": {},
   "source": [
    "# BALANCED ASSIGNMENT PROBLEM AS BQM"
   ]
  },
  {
   "cell_type": "markdown",
   "metadata": {},
   "source": [
    "Given n agents, n tasks and the efficiency measure of each $i^{th}$ agent to do the $j^{th}$ task. Each task should be alloted to only one agent. Each agent should work on only one task. The objective is to maximise the overall efficiency.  "
   ]
  },
  {
   "cell_type": "markdown",
   "metadata": {},
   "source": [
    "The cost function $H_c$ for this problem statement is given as:"
   ]
  },
  {
   "cell_type": "markdown",
   "metadata": {},
   "source": [
    "$$H_c=_{min}\\left(-\\sum\\limits_{i=1}^{n}\\sum\\limits_{j=1}^{n}w_{i,j}x_{i,j}+\\gamma\\left(\\sum\\limits_{i=1}^{n}\\left(\\sum\\limits_{j=1}^{n}x_{i,j}-1\\right)^2+\\sum\\limits_{j=1}^{n}\\left(\\sum\\limits_{i=1}^{n}x_{i,j}-1\\right)^2\\right)\\right)$$\n",
    "where $\\gamma$ is the Lagrange multiplier whose value is usually selected by hit and trial and is initilized to a large value at the beginning. Here, $w_{i,j}$ is the efficiency measure or the edge weight between each agent and each task. The binary variables $x_{i,j}$ is 1 if the $i^{th}$ agent is alloted to the $j^{th}$ task.   "
   ]
  },
  {
   "cell_type": "code",
   "execution_count": 427,
   "metadata": {},
   "outputs": [
    {
     "name": "stdout",
     "output_type": "stream",
     "text": [
      "\n",
      "This is a balanced assignment problem.Enter number of agents >5\n"
     ]
    }
   ],
   "source": [
    "#Get the input on the number of agents from the user in num_agents\n",
    "\n",
    "response=input('\\nThis is a balanced assignment problem.Enter number of agents >')\n",
    "try:\n",
    "    num_agents=int(response)\n",
    "except ValueError: \n",
    "    print('Must be an integer.')\n",
    "    num_agents=int(input('\\nEnter number of agents >'))\n",
    "\n",
    "#For balanced problem, number of agents is equal to the number of tasks\n",
    "num_tasks=num_agents\n",
    "\n",
    "# Balanced assignment function\n",
    "\n",
    "def bal_assignment(num_agents,num_tasks,lagrange,W):\n",
    "    \"\"\"Construct BQM for the balanced assignment problem\n",
    "    Args:\n",
    "        num_agents (int):\n",
    "            Number of agents \n",
    "        num_tasks (int):\n",
    "            Number of tasks\n",
    "        lagrange (float):\n",
    "            Value of Lagrange multiplier\n",
    "        W (2-D arr):\n",
    "            Efficiency Matrix of size (num_agents,num_tasks)\n",
    "    Returns:\n",
    "        Binary quadratic model instance\n",
    "    \"\"\"\n",
    "    \n",
    "    bqm=dimod.AdjVectorBQM(dimod.Vartype.BINARY)\n",
    "    \n",
    "    #Add the linear terms in the Hamiltonian xij-xij \n",
    "    for agent in range(num_agents):\n",
    "        for task in range(num_tasks):\n",
    "            bqm.set_linear('x'+str(agent)+str(task),-2*lagrange-W[agent,task])\n",
    "            \n",
    "    #Add the quadratic terms in the Hamiltonian xij-xkj\n",
    "        \n",
    "    for task in range(num_tasks):\n",
    "        for agent1 in range(num_agents):\n",
    "            for agent2 in range(agent1+1,num_agents):\n",
    "                key=('x'+str(agent1)+str(task),'x'+str(agent2)+str(task))\n",
    "                bqm.quadratic[key]=2*lagrange\n",
    "    \n",
    "    #Add the quadratic terms in the Hamiltonian xij-xik\n",
    "    for agent in range(num_agents):\n",
    "        for task1 in range(num_tasks):\n",
    "            for task2 in range(task1+1,num_tasks):\n",
    "                key=('x'+str(agent)+str(task1),'x'+str(agent)+str(task2))\n",
    "                bqm.quadratic[key]=2*lagrange  \n",
    "    \n",
    "    #Don't forget to add the offset which is simply lagrange*(num_agents+num_tasks)\n",
    "    bqm.add_offset(lagrange*(num_agents+num_tasks))\n",
    "    return bqm"
   ]
  },
  {
   "cell_type": "markdown",
   "metadata": {},
   "source": [
    "## HUNGARIAN METHOD"
   ]
  },
  {
   "cell_type": "markdown",
   "metadata": {},
   "source": [
    "The Hungarian method is a classical combinatorial optimization algorithm that solves the assignment problem in polynomial time. Now, we randomly generate the efficiency matrix $W$. We are measuring efficiency between 0 to 1. 1 means 100% efficiency and 0 means 0% efficiency. We will use the Hungarian method now to give us the solution to the assignment problem which we will later use to compare with the Hybrid Solver Science Model on Leap. "
   ]
  },
  {
   "cell_type": "code",
   "execution_count": 428,
   "metadata": {},
   "outputs": [
    {
     "name": "stdout",
     "output_type": "stream",
     "text": [
      "[[0. 0. 1. 0. 0.]\n",
      " [0. 0. 0. 1. 0.]\n",
      " [0. 1. 0. 0. 0.]\n",
      " [1. 0. 0. 0. 0.]\n",
      " [0. 0. 0. 0. 1.]]\n"
     ]
    }
   ],
   "source": [
    "#Generate the efficiency matrix \n",
    "W=np.random.rand(num_agents,num_agents)\n",
    "\n",
    "#Find the classical Hungarian solution for the problem\n",
    "row_id,col_id=linear_sum_assignment(-W)\n",
    "sol_matrix=np.zeros((num_agents,num_tasks))\n",
    "\n",
    "#Draw the solution\n",
    "for k in range(len(row_id)):\n",
    "    sol_matrix[row_id[k],col_id[k]]=1\n",
    "print(sol_matrix)"
   ]
  },
  {
   "cell_type": "markdown",
   "metadata": {},
   "source": [
    "We can see in the above classical solution that both the constraints are completely satisfied. In the following section, we will look at the solutions using the LeapHybridSampler. We vary the Lagrange multiplier $\\gamma$ and calculate the variation of the ground state solution's energy and the Hamming distance between this solution and the one obtained via the Hungarian algorithm as a function of $\\gamma$. Due to overall run-time constraints, we choose 1-D array 'lagrange' to vary from some limited number of negative to positive values.   "
   ]
  },
  {
   "cell_type": "code",
   "execution_count": 423,
   "metadata": {},
   "outputs": [
    {
     "name": "stdout",
     "output_type": "stream",
     "text": [
      "1\n",
      "2\n",
      "3\n",
      "4\n",
      "5\n",
      "6\n",
      "7\n",
      "8\n",
      "9\n",
      "10\n",
      "11\n",
      "12\n",
      "13\n",
      "14\n",
      "15\n",
      "16\n",
      "17\n",
      "18\n",
      "19\n",
      "20\n",
      "21\n",
      "22\n",
      "23\n",
      "24\n",
      "25\n",
      "26\n",
      "27\n",
      "28\n",
      "29\n",
      "30\n"
     ]
    }
   ],
   "source": [
    "# Declare the 'lagrange' array. \n",
    "lagrange=np.linspace(-5,5,30)\n",
    "\n",
    "#Empty list declaration for the final energy and hamming distance lists. \n",
    "energy_step=[]\n",
    "hamming_distance=[]\n",
    "\n",
    "#We maintain a count parameter to see where we are progressing in the program. \n",
    "count=0\n",
    "\n",
    "\n",
    "for gamma in lagrange:\n",
    "    \n",
    "    bqm=bal_assignment(num_agents,num_tasks,gamma,W)\n",
    "    \n",
    "    #Find solutions\n",
    "    sampleset = sampler.sample(bqm)\n",
    "    sample = sampleset.first.sample\n",
    "    energy = sampleset.first.energy\n",
    "    energy_step.append(energy)\n",
    "    hd=0\n",
    "    \n",
    "    #Find Hamming distance using sol_matrix from Hungarian algorithm. \n",
    "    for agent in range(num_agents):\n",
    "        for task in range(num_tasks):\n",
    "            if(sample['x'+str(agent)+str(task)]!=sol_matrix[agent,task]):\n",
    "                hd+=1\n",
    "    hamming_distance.append(hd)\n",
    "    count+=1\n",
    "    print(count)         "
   ]
  },
  {
   "cell_type": "code",
   "execution_count": 424,
   "metadata": {},
   "outputs": [
    {
     "name": "stdout",
     "output_type": "stream",
     "text": [
      "[[0.6697848  0.2237319  0.67103838 0.46704219 0.26430947]\n",
      " [0.71738134 0.22733239 0.19075974 0.3111493  0.5326453 ]\n",
      " [0.84026249 0.69695088 0.38865423 0.00374782 0.90110562]\n",
      " [0.75912862 0.77989522 0.29456089 0.56017756 0.52968665]\n",
      " [0.05941285 0.0695739  0.85167695 0.66754751 0.3383949 ]]\n"
     ]
    }
   ],
   "source": [
    "#Let's look at the efficiency matrix. \n",
    "print(W)"
   ]
  },
  {
   "cell_type": "markdown",
   "metadata": {},
   "source": [
    "### Time for Visualizations"
   ]
  },
  {
   "cell_type": "code",
   "execution_count": 425,
   "metadata": {},
   "outputs": [
    {
     "data": {
      "text/plain": [
       "Text(0.5, 1.0, 'Hamming Distance as a function of Lagrange multiplier')"
      ]
     },
     "execution_count": 425,
     "metadata": {},
     "output_type": "execute_result"
    },
    {
     "data": {
      "image/png": "[encoded data removed]",
      "text/plain": [
       "<Figure size 576x432 with 1 Axes>"
      ]
     },
     "metadata": {
      "needs_background": "light"
     },
     "output_type": "display_data"
    },
    {
     "data": {
      "image/png": "[encoded data removed]",
      "text/plain": [
       "<Figure size 576x432 with 1 Axes>"
      ]
     },
     "metadata": {
      "needs_background": "light"
     },
     "output_type": "display_data"
    }
   ],
   "source": [
    "import matplotlib.pyplot as plt\n",
    "\n",
    "#Energy plot\n",
    "plt.figure(num=1,figsize=(8,6))\n",
    "plt.plot(lagrange,energy_step,color='g')\n",
    "plt.xlabel('Lagrange multiplier',fontsize=20)\n",
    "plt.ylabel('Energy',fontsize=20)\n",
    "plt.title('Energy as a function of Lagrange multiplier',fontsize=20)\n",
    "\n",
    "#Hamming Distance plot\n",
    "plt.figure(num=2,figsize=(8,6))\n",
    "plt.plot(lagrange,hamming_distance,color='b')\n",
    "plt.xlabel('Lagrange multiplier',fontsize=20)\n",
    "plt.ylabel('Hamming Distance',fontsize=20)\n",
    "plt.title('Hamming Distance as a function of Lagrange multiplier',fontsize=20)\n"
   ]
  },
  {
   "cell_type": "code",
   "execution_count": 238,
   "metadata": {},
   "outputs": [
    {
     "name": "stdout",
     "output_type": "stream",
     "text": [
      "{'x00': 0, 'x01': 0, 'x02': 0, 'x03': 0, 'x04': 0, 'x05': 0, 'x06': 0, 'x07': 0, 'x08': 0, 'x09': 1, 'x10': 1, 'x11': 0, 'x12': 0, 'x13': 0, 'x14': 0, 'x15': 0, 'x16': 0, 'x17': 0, 'x18': 0, 'x19': 0, 'x20': 0, 'x21': 0, 'x22': 1, 'x23': 0, 'x24': 0, 'x25': 0, 'x26': 0, 'x27': 0, 'x28': 0, 'x29': 0, 'x30': 0, 'x31': 0, 'x32': 0, 'x33': 0, 'x34': 0, 'x35': 0, 'x36': 0, 'x37': 1, 'x38': 0, 'x39': 0, 'x40': 0, 'x41': 0, 'x42': 0, 'x43': 1, 'x44': 0, 'x45': 0, 'x46': 0, 'x47': 0, 'x48': 0, 'x49': 0, 'x50': 0, 'x51': 0, 'x52': 0, 'x53': 0, 'x54': 0, 'x55': 1, 'x56': 0, 'x57': 0, 'x58': 0, 'x59': 0, 'x60': 0, 'x61': 1, 'x62': 0, 'x63': 0, 'x64': 0, 'x65': 0, 'x66': 0, 'x67': 0, 'x68': 0, 'x69': 0, 'x70': 0, 'x71': 0, 'x72': 0, 'x73': 0, 'x74': 1, 'x75': 0, 'x76': 0, 'x77': 0, 'x78': 0, 'x79': 0, 'x80': 0, 'x81': 0, 'x82': 0, 'x83': 0, 'x84': 0, 'x85': 0, 'x86': 1, 'x87': 0, 'x88': 0, 'x89': 0, 'x90': 0, 'x91': 0, 'x92': 0, 'x93': 0, 'x94': 0, 'x95': 0, 'x96': 0, 'x97': 0, 'x98': 1, 'x99': 0} -8.595135688781738\n"
     ]
    }
   ],
   "source": [
    "# We check for energy \n",
    "print(sample,energy)"
   ]
  },
  {
   "cell_type": "code",
   "execution_count": 239,
   "metadata": {},
   "outputs": [],
   "source": [
    "#Sanity check for the constraints\n",
    "efficiency=0\n",
    "\n",
    "for agent in range(num_agents):\n",
    "    count=0\n",
    "    for task in range(num_tasks):\n",
    "        count+=sample['x'+str(agent)+str(task)]\n",
    "        if(sample['x'+str(agent)+str(task)]==1):\n",
    "            efficiency+=W[agent,task]\n",
    "    if(count!=1):\n",
    "        print('Incorrect solution')\n",
    "        break"
   ]
  },
  {
   "cell_type": "code",
   "execution_count": 240,
   "metadata": {},
   "outputs": [
    {
     "name": "stdout",
     "output_type": "stream",
     "text": [
      "8.595136072841644\n"
     ]
    }
   ],
   "source": [
    "print(efficiency)"
   ]
  },
  {
   "cell_type": "markdown",
   "metadata": {},
   "source": [
    "# UNBALANCED ASSIGNMENT PROBLEM AS DQM"
   ]
  },
  {
   "cell_type": "markdown",
   "metadata": {},
   "source": [
    "In an unbalanced problem formulation, the size of the num_agents A is not equal to num_tasks T. Here, we take the case where num_agents is less than num_tasks. In addition, each task has to be completed a certain number of times. Thus, we have a task_array '$t$' of length (num_tasks) which has the values as to how many times that specific task has to be completed. This is an equality constraint. Each agent can either do a certain number of tasks modelled as the discrete variables in DQM. There is also an upper bound $U$ on the number of tasks that each agent can do. Right now, we have not given the preference to the agents. We set $U$ which we will discuss after introducing the cost Hamiltonian for this problem. We again have to maximise the efficiency. "
   ]
  },
  {
   "cell_type": "markdown",
   "metadata": {},
   "source": [
    "$$H_c=_{min}\\left(-\\sum\\limits_{i=1}^{A}\\sum\\limits_{j=1}^{T}w_{i,j}x_{i,j}+\\gamma\\left(\\sum\\limits_{j=1}^{T}\\left(\\sum\\limits_{i=1}^{A}x_{i,j}-t_j\\right)^2+\\sum\\limits_{i=1}^{A}\\left(\\sum\\limits_{n=1}^{U}ny_{i,n}-\\sum\\limits_{j=1}^{T}x_{i,j}\\right)^2\\right)\\right)$$"
   ]
  },
  {
   "cell_type": "markdown",
   "metadata": {},
   "source": [
    "where $x_{i,j}$ are discrete variables and can take values $(0,1,...U)$ where $U=sum(t)/A$ representing average number of tasks per agent. $y_{i,n}$ are auxiliary variables which take the value 1 if the total number of tasks per agent is n and 0 otherwise. The third term penalizes if an agent crosses the upper bound U on the number of tasks that one has to do. $x_{i,j}$ represents how many number of tasks $i^{th}$ agent will finish for each task( as given by the t array). This is where DQM comes into play. "
   ]
  },
  {
   "cell_type": "code",
   "execution_count": 335,
   "metadata": {},
   "outputs": [],
   "source": [
    "from dimod import DiscreteQuadraticModel"
   ]
  },
  {
   "cell_type": "code",
   "execution_count": 408,
   "metadata": {},
   "outputs": [],
   "source": [
    "num_agents=3\n",
    "num_tasks=5\n",
    "task_array=[2,2,3,1,3]\n",
    "lagrange1=20\n",
    "discrete_max_limit=int(np.floor(np.sum(task_array)/num_agents))\n",
    "num_array=np.array(range(discrete_max_limit))\n",
    "W=np.random.rand(num_agents,num_tasks)"
   ]
  },
  {
   "cell_type": "code",
   "execution_count": 409,
   "metadata": {},
   "outputs": [],
   "source": [
    "dqm=DiscreteQuadraticModel()\n",
    "#Declare variables\n",
    "for agent in range(num_agents):\n",
    "    for task in range(num_tasks):\n",
    "        dqm.add_variable(discrete_max_limit,label='x'+str(agent)+str(task))\n",
    "        \n",
    "#Hamiltonian for xij-xij terms      \n",
    "for task in range(num_tasks):\n",
    "    for agent in range(num_agents):\n",
    "        dqm.set_linear('x'+str(agent)+str(task),2*lagrange1*num_array**2+\n",
    "                       (-2*lagrange1*task_array[task]-W[agent,task])*num_array)\n",
    "        \n",
    "#Hamiltonian for xij-xkj terms         \n",
    "for task in range(num_tasks):\n",
    "    for agent1 in range(num_agents):\n",
    "        for agent2 in range(agent1+1,num_agents):\n",
    "            dict_quad={}\n",
    "            for number1 in num_array:\n",
    "                for number2 in num_array:\n",
    "                    dict_quad[(number1,number2)]=2*lagrange1*number1*number2 \n",
    "            dqm.set_quadratic('x'+str(agent1)+str(task),'x'+str(agent2)+str(task),dict_quad) \n",
    "            \n",
    "#Hamiltonian for xij-xik terms \n",
    "            \n",
    "for agent in range(num_agents):\n",
    "    for task1 in range(num_tasks):\n",
    "        for task2 in range(task1+1,num_tasks):\n",
    "            dict_quad={}\n",
    "            for number1 in num_array:\n",
    "                for number2 in num_array:\n",
    "                    dict_quad[(number1,number2)]=2*lagrange1*number1*number2\n",
    "              \n",
    "            dqm.set_quadratic('x'+str(agent)+str(task1),'x'+str(agent)+str(task2),dict_quad) \n",
    "\n",
    "\n",
    "# Add the number of auxiliary variables \n",
    "num_spins=discrete_max_limit      \n",
    "for agent in range(num_agents):\n",
    "    for spin in range(1,num_spins):\n",
    "        dqm.add_variable(2,label='y'+str(agent)+str(spin))\n",
    "        \n",
    "#Hamiltonian for yin-yin terms         \n",
    "for agent in range(num_agents):\n",
    "    for spin in range(1,num_spins):\n",
    "        dqm.set_linear('y'+str(agent)+str(spin),lagrange1*np.array([0,1])*spin**2)\n",
    "        \n",
    "#Hamiltonian for yin-yio terms        \n",
    "for agent in range(num_agents):\n",
    "    for spin1 in range(1,num_spins):\n",
    "        for spin2 in range(spin1+1,num_spins):\n",
    "            dqm.set_quadratic('y' + str(agent)+str(spin1), 'y' + str(agent)+str(spin2), {(1,1):2*lagrange1*spin1*spin2})\n",
    "\n",
    "#Hamiltonian for yin-xij terms \n",
    "for agent in range(num_agents):\n",
    "    for task in range(num_tasks):\n",
    "        for spin in range(1,num_spins):\n",
    "            dict_quad={}\n",
    "            for number in num_array:\n",
    "                dict_quad[(number,1)]=-2*lagrange1*number*spin\n",
    "            dqm.set_quadratic('x' + str(agent)+str(task),'y' + str(agent)+str(spin),dict_quad)"
   ]
  },
  {
   "cell_type": "code",
   "execution_count": 410,
   "metadata": {},
   "outputs": [],
   "source": [
    "#Find the solution\n",
    "sampler = LeapHybridDQMSampler(token='DEV-3fc4e66bf879e3fb40a1d09e8be0a7654e806d3c')\n",
    "\n",
    "# Solve the problem using the DQM solver\n",
    "sampleset = sampler.sample_dqm(dqm, label='Example - Unbalanced Scheduling Assignment')\n",
    "\n",
    "# get the first solution, and print it\n",
    "sample = sampleset.first.sample\n",
    "energy = sampleset.first.energy"
   ]
  },
  {
   "cell_type": "code",
   "execution_count": 411,
   "metadata": {},
   "outputs": [
    {
     "name": "stdout",
     "output_type": "stream",
     "text": [
      "{'x00': 0, 'x01': 0, 'x02': 1, 'x03': 0, 'x04': 2, 'x10': 0, 'x11': 0, 'x12': 2, 'x13': 1, 'x14': 1, 'x20': 2, 'x21': 2, 'x22': 0, 'x23': 0, 'x24': 0, 'y01': 1, 'y02': 1, 'y11': 1, 'y12': 1, 'y21': 1, 'y22': 1}\n"
     ]
    }
   ],
   "source": [
    "print(sample)"
   ]
  },
  {
   "cell_type": "code",
   "execution_count": 412,
   "metadata": {},
   "outputs": [
    {
     "name": "stdout",
     "output_type": "stream",
     "text": [
      "[[0.60687523 0.54182086 0.37430869 0.37734984 0.61144115]\n",
      " [0.12097777 0.60724208 0.90335444 0.96749492 0.31037134]\n",
      " [0.7973549  0.78600107 0.03272764 0.33981593 0.20168724]]\n"
     ]
    }
   ],
   "source": [
    "print(W)"
   ]
  },
  {
   "cell_type": "code",
   "execution_count": 413,
   "metadata": {},
   "outputs": [
    {
     "name": "stdout",
     "output_type": "stream",
     "text": [
      "[2, 2, 3, 1, 3]\n"
     ]
    }
   ],
   "source": [
    "print(task_array)"
   ]
  },
  {
   "cell_type": "code",
   "execution_count": 414,
   "metadata": {},
   "outputs": [
    {
     "name": "stdout",
     "output_type": "stream",
     "text": [
      "3\n"
     ]
    }
   ],
   "source": [
    "print(discrete_max_limit)"
   ]
  },
  {
   "cell_type": "code",
   "execution_count": 415,
   "metadata": {},
   "outputs": [],
   "source": [
    "#Sanity Checks for constraint 1: For each task, the totality requirement is satisfied\n",
    "for task in range(num_tasks):\n",
    "    sum=0\n",
    "    for agent in range(num_agents):\n",
    "        sum+=sample['x'+str(agent)+str(task)]\n",
    "    if(sum!=task_array[task]):\n",
    "        print('Incorrect solution')\n",
    "        break"
   ]
  },
  {
   "cell_type": "code",
   "execution_count": 416,
   "metadata": {},
   "outputs": [],
   "source": [
    "#Sanity Checks for constraint 2: For each agent, the upper limit of the number of total discrete variables i.e.\n",
    "#(max tasks limit) is not crossed.  \n",
    "for agent in range(num_agents):\n",
    "    sum=0\n",
    "    for task in range(num_tasks):\n",
    "        sum+=sample['x'+str(agent)+str(task)]\n",
    "    if(sum>(discrete_max_limit+1)):\n",
    "        print('Incorrect solution')\n",
    "        break"
   ]
  },
  {
   "cell_type": "code",
   "execution_count": 417,
   "metadata": {},
   "outputs": [],
   "source": [
    "#Calculate efficiency\n",
    "efficiency=0\n",
    "for agent in range(num_agents):\n",
    "    for task in range(num_tasks):\n",
    "        efficiency+=W[agent,task]*sample['x'+str(agent)+str(task)]"
   ]
  },
  {
   "cell_type": "code",
   "execution_count": 419,
   "metadata": {},
   "outputs": [
    {
     "name": "stdout",
     "output_type": "stream",
     "text": [
      "7.848478053586254\n"
     ]
    }
   ],
   "source": [
    "print(efficiency)"
   ]
  }
 ],
 "metadata": {
  "kernelspec": {
   "display_name": "Python 3",
   "language": "python",
   "name": "python3"
  },
  "language_info": {
   "codemirror_mode": {
    "name": "ipython",
    "version": 3
   },
   "file_extension": ".py",
   "mimetype": "text/x-python",
   "name": "python",
   "nbconvert_exporter": "python",
   "pygments_lexer": "ipython3",
   "version": "3.8.3"
  }
 },
 "nbformat": 4,
 "nbformat_minor": 4
}
