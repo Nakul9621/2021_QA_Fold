{
 "cells": [
  {
   "cell_type": "code",
   "execution_count": 1,
   "id": "lightweight-syria",
   "metadata": {
    "collapsed": false
   },
   "outputs": [],
   "source": [
    "import sys\n",
    "sys.path.insert(0, '..')"
   ]
  },
  {
   "cell_type": "code",
   "execution_count": null,
   "id": "naughty-unknown",
   "metadata": {
    "collapsed": false
   },
   "outputs": [],
   "source": []
  }
 ],
 "metadata": {
  "kernelspec": {
   "argv": [
    "/home/yushengzhao/anaconda3/envs/iQuHACK/bin/python",
    "-m",
    "ipykernel_launcher",
    "-f",
    "{connection_file}"
   ],
   "display_name": "iQuHACK",
   "env": null,
   "interrupt_mode": "signal",
   "language": "python",
   "metadata": null,
   "name": "iquhack"
  },
  "name": "project_notebook.ipynb"
 },
 "nbformat": 4,
 "nbformat_minor": 5
}
