{
 "cells": [
  {
   "cell_type": "code",
   "execution_count": 1,
   "id": "political-pilot",
   "metadata": {
    "collapsed": false
   },
   "outputs": [],
   "source": [
    "import sys\n",
    "sys.path.insert(0, '..')"
   ]
  },
  {
   "cell_type": "code",
   "execution_count": 5,
   "id": "stable-algeria",
   "metadata": {
    "collapsed": false
   },
   "outputs": [],
   "source": [
    "from qiskit_ionq_provider import IonQProvider\n",
    "from qiskit.optimization.applications.ising import knapsack\n",
    "from qiskit.circuit.library import RealAmplitudes\n",
    "from qiskit import QuantumCircuit"
   ]
  },
  {
   "cell_type": "code",
   "execution_count": 16,
   "id": "cordless-television",
   "metadata": {
    "collapsed": false
   },
   "outputs": [],
   "source": [
    "provider = IonQProvider(token='laldTW63uAIPEfNaJwfljDU6OT3p7bKr')\n",
    "backend = provider.get_backend(\"ionq_simulator\")"
   ]
  },
  {
   "cell_type": "code",
   "execution_count": 13,
   "id": "duplicate-activity",
   "metadata": {
    "collapsed": false
   },
   "outputs": [
    {
     "name": "stdout",
     "output_type": "stream",
     "text": [
      "16\n"
     ]
    },
    {
     "data": {
      "text/plain": [
       "list"
      ]
     },
     "execution_count": 13,
     "metadata": {},
     "output_type": "execute_result"
    }
   ],
   "source": [
    "ansatz = RealAmplitudes(4)\n",
    "print(ansatz.num_parameters)\n",
    "params = ansatz.ordered_parameters\n",
    "type(params)"
   ]
  },
  {
   "cell_type": "code",
   "execution_count": 14,
   "id": "automatic-loading",
   "metadata": {
    "collapsed": false
   },
   "outputs": [],
   "source": [
    "pd = {}\n",
    "for param in params:\n",
    "    pd[param] = 0"
   ]
  },
  {
   "cell_type": "code",
   "execution_count": 17,
   "id": "continent-struggle",
   "metadata": {
    "collapsed": false
   },
   "outputs": [
    {
     "data": {
      "text/html": [
       "<pre style=\"word-wrap: normal;white-space: pre;background: #fff0;line-height: 1.1;font-family: &quot;Courier New&quot;,Courier,monospace\">        ┌───────┐               ┌───────┐                                 »\n",
       "   q_0: ┤ RY(0) ├──■────■────■──┤ RY(0) ├──────────────────■──────■────■──»\n",
       "        ├───────┤┌─┴─┐  │    │  └───────┘     ┌───────┐  ┌─┴─┐    │    │  »\n",
       "   q_1: ┤ RY(0) ├┤ X ├──┼────┼──────■──────■──┤ RY(0) ├──┤ X ├────┼────┼──»\n",
       "        ├───────┤└───┘┌─┴─┐  │    ┌─┴─┐    │  └───────┘┌─┴───┴─┐┌─┴─┐  │  »\n",
       "   q_2: ┤ RY(0) ├─────┤ X ├──┼────┤ X ├────┼──────■────┤ RY(0) ├┤ X ├──┼──»\n",
       "        ├───────┤     └───┘┌─┴─┐  └───┘  ┌─┴─┐  ┌─┴─┐  ├───────┤└───┘┌─┴─┐»\n",
       "   q_3: ┤ RY(0) ├──────────┤ X ├─────────┤ X ├──┤ X ├──┤ RY(0) ├─────┤ X ├»\n",
       "        └───────┘          └───┘         └───┘  └───┘  └───────┘     └───┘»\n",
       "meas: 4/══════════════════════════════════════════════════════════════════»\n",
       "                                                                          »\n",
       "«        ┌───────┐                                 ┌───────┐              »\n",
       "«   q_0: ┤ RY(0) ├──────────────────■──────■────■──┤ RY(0) ├──────────────»\n",
       "«        └───────┘     ┌───────┐  ┌─┴─┐    │    │  └───────┘     ┌───────┐»\n",
       "«   q_1: ────■──────■──┤ RY(0) ├──┤ X ├────┼────┼──────■──────■──┤ RY(0) ├»\n",
       "«          ┌─┴─┐    │  └───────┘┌─┴───┴─┐┌─┴─┐  │    ┌─┴─┐    │  └───────┘»\n",
       "«   q_2: ──┤ X ├────┼──────■────┤ RY(0) ├┤ X ├──┼────┤ X ├────┼──────■────»\n",
       "«          └───┘  ┌─┴─┐  ┌─┴─┐  ├───────┤└───┘┌─┴─┐  └───┘  ┌─┴─┐  ┌─┴─┐  »\n",
       "«   q_3: ─────────┤ X ├──┤ X ├──┤ RY(0) ├─────┤ X ├─────────┤ X ├──┤ X ├──»\n",
       "«                 └───┘  └───┘  └───────┘     └───┘         └───┘  └───┘  »\n",
       "«meas: 4/═════════════════════════════════════════════════════════════════»\n",
       "«                                                                         »\n",
       "«                  ░ ┌─┐         \n",
       "«   q_0: ──────────░─┤M├─────────\n",
       "«                  ░ └╥┘┌─┐      \n",
       "«   q_1: ──────────░──╫─┤M├──────\n",
       "«        ┌───────┐ ░  ║ └╥┘┌─┐   \n",
       "«   q_2: ┤ RY(0) ├─░──╫──╫─┤M├───\n",
       "«        ├───────┤ ░  ║  ║ └╥┘┌─┐\n",
       "«   q_3: ┤ RY(0) ├─░──╫──╫──╫─┤M├\n",
       "«        └───────┘ ░  ║  ║  ║ └╥┘\n",
       "«meas: 4/═════════════╩══╩══╩══╩═\n",
       "«                     0  1  2  3 </pre>"
      ],
      "text/plain": [
       "        ┌───────┐               ┌───────┐                                 »\n",
       "   q_0: ┤ RY(0) ├──■────■────■──┤ RY(0) ├──────────────────■──────■────■──»\n",
       "        ├───────┤┌─┴─┐  │    │  └───────┘     ┌───────┐  ┌─┴─┐    │    │  »\n",
       "   q_1: ┤ RY(0) ├┤ X ├──┼────┼──────■──────■──┤ RY(0) ├──┤ X ├────┼────┼──»\n",
       "        ├───────┤└───┘┌─┴─┐  │    ┌─┴─┐    │  └───────┘┌─┴───┴─┐┌─┴─┐  │  »\n",
       "   q_2: ┤ RY(0) ├─────┤ X ├──┼────┤ X ├────┼──────■────┤ RY(0) ├┤ X ├──┼──»\n",
       "        ├───────┤     └───┘┌─┴─┐  └───┘  ┌─┴─┐  ┌─┴─┐  ├───────┤└───┘┌─┴─┐»\n",
       "   q_3: ┤ RY(0) ├──────────┤ X ├─────────┤ X ├──┤ X ├──┤ RY(0) ├─────┤ X ├»\n",
       "        └───────┘          └───┘         └───┘  └───┘  └───────┘     └───┘»\n",
       "meas: 4/══════════════════════════════════════════════════════════════════»\n",
       "                                                                          »\n",
       "«        ┌───────┐                                 ┌───────┐              »\n",
       "«   q_0: ┤ RY(0) ├──────────────────■──────■────■──┤ RY(0) ├──────────────»\n",
       "«        └───────┘     ┌───────┐  ┌─┴─┐    │    │  └───────┘     ┌───────┐»\n",
       "«   q_1: ────■──────■──┤ RY(0) ├──┤ X ├────┼────┼──────■──────■──┤ RY(0) ├»\n",
       "«          ┌─┴─┐    │  └───────┘┌─┴───┴─┐┌─┴─┐  │    ┌─┴─┐    │  └───────┘»\n",
       "«   q_2: ──┤ X ├────┼──────■────┤ RY(0) ├┤ X ├──┼────┤ X ├────┼──────■────»\n",
       "«          └───┘  ┌─┴─┐  ┌─┴─┐  ├───────┤└───┘┌─┴─┐  └───┘  ┌─┴─┐  ┌─┴─┐  »\n",
       "«   q_3: ─────────┤ X ├──┤ X ├──┤ RY(0) ├─────┤ X ├─────────┤ X ├──┤ X ├──»\n",
       "«                 └───┘  └───┘  └───────┘     └───┘         └───┘  └───┘  »\n",
       "«meas: 4/═════════════════════════════════════════════════════════════════»\n",
       "«                                                                         »\n",
       "«                  ░ ┌─┐         \n",
       "«   q_0: ──────────░─┤M├─────────\n",
       "«                  ░ └╥┘┌─┐      \n",
       "«   q_1: ──────────░──╫─┤M├──────\n",
       "«        ┌───────┐ ░  ║ └╥┘┌─┐   \n",
       "«   q_2: ┤ RY(0) ├─░──╫──╫─┤M├───\n",
       "«        ├───────┤ ░  ║  ║ └╥┘┌─┐\n",
       "«   q_3: ┤ RY(0) ├─░──╫──╫──╫─┤M├\n",
       "«        └───────┘ ░  ║  ║  ║ └╥┘\n",
       "«meas: 4/═════════════╩══╩══╩══╩═\n",
       "«                     0  1  2  3 "
      ]
     },
     "execution_count": 17,
     "metadata": {},
     "output_type": "execute_result"
    }
   ],
   "source": [
    "new_qc = ansatz.bind_parameters(pd)\n",
    "qc = QuantumCircuit(4)\n",
    "qc.compose(new_qc,inplace=True)\n",
    "qc.measure_all()\n",
    "qc.draw()"
   ]
  },
  {
   "cell_type": "code",
   "execution_count": 23,
   "id": "aging-glory",
   "metadata": {
    "collapsed": false
   },
   "outputs": [],
   "source": [
    "res = backend.run(qc,shots=8192)"
   ]
  },
  {
   "cell_type": "code",
   "execution_count": 24,
   "id": "powerful-bearing",
   "metadata": {
    "collapsed": false
   },
   "outputs": [
    {
     "name": "stdout",
     "output_type": "stream",
     "text": [
      "{'0000': 8192}\n"
     ]
    }
   ],
   "source": [
    "print(res.get_counts(0))"
   ]
  },
  {
   "cell_type": "code",
   "execution_count": null,
   "id": "civilian-primary",
   "metadata": {
    "collapsed": false
   },
   "outputs": [],
   "source": []
  }
 ],
 "metadata": {
  "kernelspec": {
   "argv": [
    "/home/yushengzhao/anaconda3/envs/iQuHACK/bin/python",
    "-m",
    "ipykernel_launcher",
    "-f",
    "{connection_file}"
   ],
   "display_name": "iQuHACK",
   "env": null,
   "interrupt_mode": "signal",
   "language": "python",
   "metadata": null,
   "name": "iquhack"
  },
  "name": "project_notebook.ipynb"
 },
 "nbformat": 4,
 "nbformat_minor": 5
}
